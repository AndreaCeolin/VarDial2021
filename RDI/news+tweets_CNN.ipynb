{
  "nbformat": 4,
  "nbformat_minor": 0,
  "metadata": {
    "accelerator": "GPU",
    "colab": {
      "name": "news+tweets_CNN.ipynb",
      "provenance": [],
      "collapsed_sections": []
    },
    "kernelspec": {
      "display_name": "Python 3",
      "name": "python3"
    }
  },
  "cells": [
    {
      "cell_type": "markdown",
      "metadata": {
        "id": "jFsdW2NRb_RL"
      },
      "source": [
        "#Romanian Dialect Identification - VarDial2021 - News and Tweets CNN\n",
        "\n",
        "This notebook contains the CNN used by Team Phlyers for the RDI shared task at VarDial2020 and VarDial2021. The network is an adaptation of the CNN presented in Butnaru and Ionescu (2019).\n",
        "\n",
        "The first few blocks are needed to set up the directory."
      ]
    },
    {
      "cell_type": "code",
      "metadata": {
        "colab": {
          "base_uri": "https://localhost:8080/"
        },
        "id": "ElNfPjqpepZ9",
        "outputId": "e1e398d6-49fd-4bb4-e6e2-8961bd0dd575"
      },
      "source": [
        "# Load the Drive helper and mount\n",
        "from google.colab import drive\n",
        "\n",
        "# This will prompt for authorization.\n",
        "drive.mount('/content/drive')\n",
        "\n"
      ],
      "execution_count": 17,
      "outputs": [
        {
          "output_type": "stream",
          "text": [
            "Drive already mounted at /content/drive; to attempt to forcibly remount, call drive.mount(\"/content/drive\", force_remount=True).\n"
          ],
          "name": "stdout"
        }
      ]
    },
    {
      "cell_type": "code",
      "metadata": {
        "colab": {
          "base_uri": "https://localhost:8080/"
        },
        "id": "MCKCET-8fdjB",
        "outputId": "d2d5ae7a-c682-451d-9cff-24ea7561806a"
      },
      "source": [
        "%cd /content/drive/My Drive/Colab Notebooks/RMI-VarDial2021\n"
      ],
      "execution_count": 18,
      "outputs": [
        {
          "output_type": "stream",
          "text": [
            "/content/drive/My Drive/Colab Notebooks/RMI-VarDial2021\n"
          ],
          "name": "stdout"
        }
      ]
    },
    {
      "cell_type": "markdown",
      "metadata": {
        "id": "8HAFhRAkfmQ4"
      },
      "source": [
        "The next block loads the data and performs preprocessing."
      ]
    },
    {
      "cell_type": "code",
      "metadata": {
        "colab": {
          "base_uri": "https://localhost:8080/"
        },
        "id": "CEIXZLAPb_RO",
        "outputId": "91f7ef73-3d55-4eec-d28b-d78bb911156e"
      },
      "source": [
        "from io import open\n",
        "from collections import defaultdict\n",
        "import string \n",
        "import random\n",
        "\n",
        "'''\n",
        "The code has been adapted from:\n",
        "\n",
        "Convolutional Neural Networks Tutorial in PyTorch \n",
        "(https://adventuresinmachinelearning.com/convolutional-neural-networks-tutorial-in-pytorch/)\n",
        "\n",
        "NLP FROM SCRATCH: CLASSIFYING NAMES WITH A CHARACTER-LEVEL RNN\n",
        "by Sean Robertson\n",
        "https://pytorch.org/tutorials/intermediate/char_rnn_classification_tutorial.html\n",
        "'''\n",
        "\n",
        "##############################\n",
        "# Load the data and preprocess\n",
        "##############################\n",
        "\n",
        "training_categories = []\n",
        "training_sentences = []\n",
        "dev_categories = []\n",
        "dev_sentences = []\n",
        "label_list = ['RO', 'MD']\n",
        "\n",
        "# Load the news training data and the tweets development data and preprocess\n",
        "for line in open('data/train.txt', encoding='utf-8', errors='ignore'):\n",
        "    category = line.split('\\t')[-1].rstrip().strip('\\u202c')\n",
        "    training_categories.append(category)\n",
        "    sentence = line.split('\\t')[0].replace('$NE$', '').lower()\n",
        "    training_sentences.append(sentence)\n",
        "\n",
        "for line in open('data/dev.txt', encoding='utf-8', errors='ignore'):\n",
        "    category = line.split('\\t')[-1].rstrip().strip('\\u202c')\n",
        "    dev_categories.append(category)\n",
        "    sentence = line.split('\\t')[0].replace('$NE$', '').lower().replace('foto', '').replace('video','').replace('live','')\n",
        "    sentence = sentence.translate(sentence.maketrans('', '', string.punctuation+'|-0123456789”„…'))\n",
        "    sentence = ' '.join(sentence.split())\n",
        "    dev_sentences.append(sentence)\n",
        "\n",
        "# These are letters that appear more than 50 times in the corpus. The others are excluded.\n",
        "all_letters = 'cumaspnetfârşidvoljgzţăbîxwhșțkyкуинсайдертябгqхоéàпвылшǎцáзфьмжщчãöü̦̆ю̧ȋэç'\n",
        "\n",
        "# Map the characters into a list of indeces, that you use to create the tensors\n",
        "n_letters = len(all_letters)\n",
        "dic_letters = dict(zip(all_letters, range(1, n_letters+1)))\n",
        "\n",
        "# Use part of the tweets development dataset to create a tweets test set\n",
        "X_dev = dev_sentences[len(dev_sentences)//5:]\n",
        "y_dev = dev_categories[len(dev_sentences)//5:] \n",
        "X_test = dev_sentences[:len(dev_sentences)//5]\n",
        "y_test = dev_categories[:len(dev_sentences)//5] \n",
        "\n",
        "# Print size of the corpus\n",
        "print('Characters:', all_letters)\n",
        "print('# of characters:', len(all_letters))\n",
        "print('# of training sentences:', len(training_categories))\n",
        "print('# of training labels:', len(set(training_categories)))\n",
        "print('# of dev sentences:', len(X_dev))\n",
        "print('# of dev labels:', len(set(y_dev)))\n",
        "\n",
        "# Store the words that appear in each category\n",
        "X_dic = defaultdict(set)\n",
        "for sentence, label in zip(X_dev,y_dev):\n",
        "  X_dic[label].update(sentence.split())"
      ],
      "execution_count": 19,
      "outputs": [
        {
          "output_type": "stream",
          "text": [
            "Characters: cumaspnetfârşidvoljgzţăbîxwhșțkyкуинсайдертябгqхоéàпвылшǎцáзфьмжщчãöü̦̆ю̧ȋэç\n",
            "# of characters: 76\n",
            "# of training sentences: 33564\n",
            "# of training labels: 2\n",
            "# of dev sentences: 4190\n",
            "# of dev labels: 2\n"
          ],
          "name": "stdout"
        }
      ]
    },
    {
      "cell_type": "markdown",
      "metadata": {
        "id": "Y8HWI-qVxBem"
      },
      "source": [
        "The next block contains some data augmentation functions inspired by Wei and Zou (2019)."
      ]
    },
    {
      "cell_type": "code",
      "metadata": {
        "colab": {
          "base_uri": "https://localhost:8080/"
        },
        "id": "AyUsqDcrwZ2K",
        "outputId": "25628d0f-367e-41f5-9489-1f92afe32856"
      },
      "source": [
        "##################\n",
        "#Data Augmentation\n",
        "#################\n",
        "\n",
        "augmented_labels = []\n",
        "augmented_sentences = []\n",
        "\n",
        "#This function adds 10 replicas of the tweets set with shuffled sentences\n",
        "def random_shuffle(): \n",
        "  for i in range(10):\n",
        "    for label, sentence in zip(y_dev, X_dev):\n",
        "      augmented_labels.append(label)\n",
        "      new_sentence = sentence.split()\n",
        "      random.shuffle(new_sentence)\n",
        "      augmented_sentences.append(' '.join(new_sentence))\n",
        "\n",
        "#This function adds 10 replicas of the tweets set with random insertion \n",
        "def random_insert():\n",
        "  for i in range(10):\n",
        "    for label, sentence in zip(y_dev, X_dev):\n",
        "      augmented_labels.append(label)\n",
        "      new_sentence = sentence.split()\n",
        "      a = random.choice(list(X_dic[label]))\n",
        "      new_sentence.insert(random.choice(range(len(new_sentence))), a)\n",
        "      augmented_sentences.append(' '.join(new_sentence))\n",
        "\n",
        "#This functions adds 10 replicas of the tweets set with random deletion \n",
        "def random_delete():\n",
        "  for i in range(10):\n",
        "    for label, sentence in zip(y_dev, X_dev):\n",
        "      augmented_labels.append(label)\n",
        "      new_sentence = sentence.split()\n",
        "      new_sentence.pop(random.choice(range(len(new_sentence))))\n",
        "      augmented_sentences.append(' '.join(new_sentence))\n",
        "\n",
        "#This part adds 10 replicas of the tweets set with random swap\n",
        "def random_swap():\n",
        "  for i in range(10):\n",
        "    for label, sentence in zip(y_dev, X_dev):\n",
        "      augmented_labels.append(label)\n",
        "      new_sentence = sentence.split()\n",
        "      if len(new_sentence)>1:\n",
        "        w1, w2 = random.sample(range(len(new_sentence)),2)\n",
        "        new_sentence[w1], new_sentence[w2] = new_sentence[w2], new_sentence[w1] \n",
        "      augmented_sentences.append(' '.join(new_sentence))\n",
        "\n",
        "#Call the function\n",
        "random_shuffle()\n",
        "\n",
        "y_dev, X_dev = y_dev + augmented_labels, X_dev + augmented_sentences\n",
        "\n",
        "# Print size of the development set\n",
        "print('# of dev sentences augmented:', len(X_dev))\n",
        "print('# of dev labels augmented:', len(set(y_dev)))\n",
        "print('# of test sentences:', len(X_test))\n",
        "print('# of test labels:', len(set(y_test)))\n"
      ],
      "execution_count": 20,
      "outputs": [
        {
          "output_type": "stream",
          "text": [
            "# of dev sentences augmented: 46090\n",
            "# of dev labels augmented: 2\n",
            "# of test sentences: 1047\n",
            "# of test labels: 2\n"
          ],
          "name": "stdout"
        }
      ]
    },
    {
      "cell_type": "markdown",
      "metadata": {
        "id": "XbTxb5N5wf2R"
      },
      "source": [
        "The next block contains some helper functions that are needed to transform our input data in Tensors."
      ]
    },
    {
      "cell_type": "code",
      "metadata": {
        "colab": {
          "base_uri": "https://localhost:8080/"
        },
        "id": "Ctq5J3emwgY8",
        "outputId": "c971f255-79cf-44b4-8dca-dc78038c8587"
      },
      "source": [
        "import torch\n",
        "\n",
        "###################\n",
        "# Helper functions\n",
        "###################\n",
        "\n",
        "# Get the letter index\n",
        "def letterToIndex(letter):\n",
        "    if letter in dic_letters:\n",
        "        return dic_letters[letter]\n",
        "    return 0\n",
        "\n",
        "#Turns a single line into a tensor\n",
        "def lineToTensor(line):\n",
        "    tensor = torch.zeros(n_letters+1, 5000)\n",
        "    for li, letter in enumerate(line[:5000]):\n",
        "        tensor[letterToIndex(letter)][li] = 1 \n",
        "    return tensor\n",
        "\n",
        "#Turns a batch of lines into a batch of tensors\n",
        "def linesToTensors(lines):\n",
        "    tensor = torch.zeros(batch_size, n_letters+1, 5000)\n",
        "    for batch, line in enumerate(lines):\n",
        "      for li, letter in enumerate(line[:5000]):\n",
        "          tensor[batch][letterToIndex(letter)][li] = 1 \n",
        "    return tensor\n",
        "\n",
        "#Turns categories into tensors\n",
        "def categoriesToTensors(categories):\n",
        "  labels = torch.zeros(len(categories),dtype=torch.long)\n",
        "  for i, label in enumerate(categories):\n",
        "    labels[i] = label_list.index(label)\n",
        "  return labels\n",
        "\n",
        "#Gets category from tensor\n",
        "def categoryFromOutput(output):\n",
        "  return label_list[int(output)]\n",
        "\n",
        "#Check that the category index is correct\n",
        "tensor = categoriesToTensors(['RO'])\n",
        "print(tensor)\n",
        "print(categoryFromOutput(tensor), 'RO')\n",
        "\n",
        "tensor_2 = categoriesToTensors(['MD'])\n",
        "print(tensor_2)\n",
        "print(categoryFromOutput(tensor_2), 'MD')"
      ],
      "execution_count": 21,
      "outputs": [
        {
          "output_type": "stream",
          "text": [
            "tensor([0])\n",
            "RO RO\n",
            "tensor([1])\n",
            "MD MD\n"
          ],
          "name": "stdout"
        }
      ]
    },
    {
      "cell_type": "markdown",
      "metadata": {
        "id": "GrFCwafIwwlP"
      },
      "source": [
        "Next, we define the hyper-parameters of the neural network."
      ]
    },
    {
      "cell_type": "code",
      "metadata": {
        "id": "j4oM9i-IwNYI"
      },
      "source": [
        "##################\n",
        "#Hyper-parameters\n",
        "##################\n",
        "\n",
        "learning_rate = 0.001\n",
        "num_epochs = 5\n",
        "batch_size = 128"
      ],
      "execution_count": 22,
      "outputs": []
    },
    {
      "cell_type": "markdown",
      "metadata": {
        "id": "1ANPXYHGUGb8"
      },
      "source": [
        "This is a class based on the DataLoader class that we will use to load the data."
      ]
    },
    {
      "cell_type": "code",
      "metadata": {
        "id": "p_9dXnPyZBs1"
      },
      "source": [
        "from torch.utils.data import DataLoader, Dataset\n",
        "\n",
        "class MyClass(Dataset):\n",
        "    def __init__(self, training, labels):\n",
        "        self.training = training\n",
        "        self.labels = labels\n",
        "\n",
        "    def __len__(self):\n",
        "        return len(self.training)\n",
        "\n",
        "    def __getitem__(self, idx):\n",
        "        return (self.training[idx], self.labels[idx])\n",
        "\n",
        "training_dataset = MyClass(X_dev, y_dev)\n",
        "dev_dataset = MyClass(X_test, y_test)\n",
        "\n",
        "training_dataloader = DataLoader(training_dataset, batch_size=batch_size, shuffle=True, drop_last=True)\n",
        "dev_dataloader = DataLoader(dev_dataset, batch_size=batch_size, shuffle=True, drop_last=True)\n"
      ],
      "execution_count": 23,
      "outputs": []
    },
    {
      "cell_type": "markdown",
      "metadata": {
        "id": "hixbQPqpb_Rd"
      },
      "source": [
        "This is the CNN adapted from Butnaru and Ionescu (2019)."
      ]
    },
    {
      "cell_type": "code",
      "metadata": {
        "colab": {
          "base_uri": "https://localhost:8080/"
        },
        "id": "l7GUYQzQb_Rh",
        "outputId": "825b398f-8787-435d-bc67-718487a8448d"
      },
      "source": [
        "import torch.nn as nn\n",
        "from torch.autograd import Variable\n",
        "\n",
        "######################################################################\n",
        "# Creating the Network\n",
        "# ====================\n",
        "\n",
        "\n",
        "class Net(nn.Module):\n",
        "    def __init__(self):\n",
        "        super(Net, self).__init__()\n",
        "        self.conv1 = nn.Sequential(nn.Conv1d(77, 128, kernel_size=7), nn.Threshold(threshold=0.000001, value=0), nn.MaxPool1d(3, stride=3))\n",
        "        self.conv2 = nn.Sequential(nn.Conv1d(128, 128, kernel_size=7), nn.Threshold(threshold=0.000001, value=0), nn.MaxPool1d(3, stride=3))\n",
        "        self.conv3 = nn.Sequential(nn.Conv1d(128, 128, kernel_size=3), nn.Threshold(threshold=0.000001, value=0), nn.MaxPool1d(3, stride=3))\n",
        "        self.fc1 = nn.Sequential(nn.Linear(23424, 1000), nn.Threshold(threshold=0.000001, value=0) ,nn.Dropout())\n",
        "        #For these two layers they do not specify the size. This was fine-tuned by us.\n",
        "        self.fc2 = nn.Sequential(nn.Linear(1000, 1000), nn.Threshold(threshold=0.000001, value=0) ,nn.Dropout())\n",
        "        self.fc3 = nn.Linear(1000, 2)\n",
        "\n",
        "    def forward(self, x):\n",
        "        out = self.conv1(x)\n",
        "        out = self.conv2(out)\n",
        "        out = self.conv3(out)\n",
        "        out = out.reshape(out.size(0), -1)\n",
        "        out = self.fc1(out)\n",
        "        out = self.fc2(out)\n",
        "        out = self.fc3(out)\n",
        "        softmax = nn.Softmax(dim=1)\n",
        "\n",
        "        return softmax(out)\n",
        "\n",
        "model = Net()\n",
        "model = model.to('cuda')\n",
        "optimizer = torch.optim.Adam(model.parameters(), lr=learning_rate)\n",
        "criterion = nn.CrossEntropyLoss()\n",
        "\n",
        "print('The CNN is ready.')\n"
      ],
      "execution_count": 24,
      "outputs": [
        {
          "output_type": "stream",
          "text": [
            "The CNN is ready.\n"
          ],
          "name": "stdout"
        }
      ]
    },
    {
      "cell_type": "markdown",
      "metadata": {
        "id": "wAaw2bsdaoR7"
      },
      "source": [
        "This is the model we trained for VarDial2020. No need to train it again this time, we will just load the model that we saved."
      ]
    },
    {
      "cell_type": "code",
      "metadata": {
        "colab": {
          "base_uri": "https://localhost:8080/",
          "height": 157
        },
        "id": "15Ewl-dTaWnT",
        "outputId": "ad10189d-5785-4ef0-f913-2066ceda0c3e"
      },
      "source": [
        "'''\n",
        "total_step = len(training_sentences)\n",
        "loss_list = []\n",
        "\n",
        "\n",
        "for epoch in range(num_epochs):\n",
        "\n",
        "  predicted_labels = []\n",
        "  correct_labels = []\n",
        "\n",
        "  for i, (lines, categories) in enumerate(dataloader):\n",
        "    tensors = linesToTensors(lines)\n",
        "    tensors = tensors.to(\"cuda\")\n",
        "    label_tensors = categoriesToTensors(categories)\n",
        "    label_tensors = label_tensors.to(\"cuda\")\n",
        "\n",
        "    outputs = model(tensors)\n",
        "    outputs = outputs.to(\"cuda\")\n",
        "\n",
        "    loss = criterion(outputs, label_tensors)\n",
        "    loss_list.append(loss.item())\n",
        "\n",
        "    # Backprop and perform Adam optimisation\n",
        "    optimizer.zero_grad()\n",
        "    loss.backward()\n",
        "    optimizer.step()\n",
        "\n",
        "    # Track the training accuracy\n",
        "    total = label_tensors.size(0)\n",
        "    _, predicted = torch.max(outputs.data, 1)\n",
        "    correct = (predicted == label_tensors).sum().item()\n",
        "    acc = correct / total\n",
        "\n",
        "    predicted_labels.extend([int(label) for label in predicted])\n",
        "    correct_labels.extend([int(label) for label in label_tensors])\n",
        "\n",
        "  print('Training. Epoch-', epoch, 'F-score:', f1_score(predicted_labels, correct_labels, average='macro'))\n",
        "\n",
        "\n",
        "torch.save(model.state_dict(), 'trained_cnn_model')\n",
        "  \n",
        "'''"
      ],
      "execution_count": 25,
      "outputs": [
        {
          "output_type": "execute_result",
          "data": {
            "application/vnd.google.colaboratory.intrinsic+json": {
              "type": "string"
            },
            "text/plain": [
              "'\\ntotal_step = len(training_sentences)\\nloss_list = []\\n\\n\\nfor epoch in range(num_epochs):\\n\\n  predicted_labels = []\\n  correct_labels = []\\n\\n  for i, (lines, categories) in enumerate(dataloader):\\n    tensors = linesToTensors(lines)\\n    tensors = tensors.to(\"cuda\")\\n    label_tensors = categoriesToTensors(categories)\\n    label_tensors = label_tensors.to(\"cuda\")\\n\\n    outputs = model(tensors)\\n    outputs = outputs.to(\"cuda\")\\n\\n    loss = criterion(outputs, label_tensors)\\n    loss_list.append(loss.item())\\n\\n    # Backprop and perform Adam optimisation\\n    optimizer.zero_grad()\\n    loss.backward()\\n    optimizer.step()\\n\\n    # Track the training accuracy\\n    total = label_tensors.size(0)\\n    _, predicted = torch.max(outputs.data, 1)\\n    correct = (predicted == label_tensors).sum().item()\\n    acc = correct / total\\n\\n    predicted_labels.extend([int(label) for label in predicted])\\n    correct_labels.extend([int(label) for label in label_tensors])\\n\\n  print(\\'Training. Epoch-\\', epoch, \\'F-score:\\', f1_score(predicted_labels, correct_labels, average=\\'macro\\'))\\n\\n\\ntorch.save(model.state_dict(), \\'trained_cnn_model\\')\\n  \\n'"
            ]
          },
          "metadata": {
            "tags": []
          },
          "execution_count": 25
        }
      ]
    },
    {
      "cell_type": "markdown",
      "metadata": {
        "id": "Zi9yGjheUl1I"
      },
      "source": [
        "Here we take the trained model, and we fine-tune it on the Tweets development set.\n",
        "\n",
        "In the process, we plot the accuracy on the training and on the development data on a Matplotlib plot."
      ]
    },
    {
      "cell_type": "code",
      "metadata": {
        "colab": {
          "base_uri": "https://localhost:8080/",
          "height": 451
        },
        "id": "98r5NiihUmrj",
        "outputId": "82b54776-c2c9-4c95-8d49-163b5cc8c601"
      },
      "source": [
        "import numpy as np\n",
        "import matplotlib.pyplot as plt\n",
        "from sklearn.metrics import f1_score\n",
        "\n",
        "# Load the model\n",
        "model.load_state_dict(torch.load('trained_cnn_model'))\n",
        "model = model.to(\"cuda\")\n",
        "\n",
        "# Train the model on the development dataset, and evaluate it on the test dataset\n",
        "# Print trainining and evaluation accuracies\n",
        "\n",
        "total_step = len(X_dev)\n",
        "loss_list = []\n",
        "training_accuracy = [0]\n",
        "dev_accuracy = [0]\n",
        "\n",
        "for epoch in range(num_epochs):\n",
        "\n",
        "  predicted_labels = []\n",
        "  correct_labels = []\n",
        "\n",
        "  for i, (sentences, category) in enumerate(training_dataloader):\n",
        "    tensors = linesToTensors(sentences)\n",
        "    tensors = tensors.to(\"cuda\")\n",
        "    labels = categoriesToTensors(category)\n",
        "    labels = labels.to(\"cuda\")\n",
        "\n",
        "    outputs = model(tensors)\n",
        "    outputs = outputs.to(\"cuda\")\n",
        "\n",
        "    loss = criterion(outputs, labels)\n",
        "    loss_list.append(loss.item())\n",
        "\n",
        "    # Backprop and perform Adam optimisation\n",
        "    optimizer.zero_grad()\n",
        "    loss.backward()\n",
        "    optimizer.step()\n",
        "\n",
        "    # Track the training accuracy\n",
        "    total = labels.size(0)\n",
        "    _, predicted = torch.max(outputs.data, 1)\n",
        "    correct = (predicted == labels).sum().item()\n",
        "    acc = correct / total\n",
        "\n",
        "    predicted_labels.extend([int(label) for label in predicted])\n",
        "    correct_labels.extend([int(label) for label in labels])\n",
        "\n",
        "  #Store training accuracy\n",
        "  training_accuracy.append(f1_score(predicted_labels, correct_labels, average='macro'))\n",
        "  print('Training. Epoch-', epoch, 'F-score:', f1_score(predicted_labels, correct_labels, average='macro'))\n",
        "  test = [(sentence, category) for sentence, category in zip(X_test,y_test)]\n",
        "\n",
        "  #Check validation accuracy\n",
        "  predicted = []\n",
        "  correct = []\n",
        "  total = len(test)\n",
        "  for i, (sentence, category) in enumerate(test):\n",
        "    tensor = torch.reshape(lineToTensor(sentence), (1, n_letters+1, 5000))\n",
        "    tensor = tensor.to(\"cuda\")\n",
        "    outputs = model(tensor)\n",
        "    outputs = outputs.to(\"cpu\")\n",
        "    label = Variable(torch.LongTensor([label_list.index(category)]))\n",
        "    _, prediction = torch.max(outputs.data, 1)\n",
        "    predicted.append(prediction)\n",
        "    correct.append(label)\n",
        "  dev_accuracy.append(f1_score(predicted, correct, average='macro'))\n",
        "  print('Development. Epoch-', epoch, 'F-score:', f1_score(predicted, correct, average='macro'))\n",
        "\n",
        "#Plot training and evaluation accuracy\n",
        "n_epochs = [iter for iter in range(len(training_accuracy))]\n",
        "plt.plot(n_epochs, training_accuracy)\n",
        "plt.plot(n_epochs, dev_accuracy)\n",
        "plt.title('Training and Validation F1 score')\n",
        "plt.show()"
      ],
      "execution_count": 26,
      "outputs": [
        {
          "output_type": "stream",
          "text": [
            "Training. Epoch- 0 F-score: 0.755078284551767\n",
            "Development. Epoch- 0 F-score: 0.7445510735198438\n",
            "Training. Epoch- 1 F-score: 0.8775602516601917\n",
            "Development. Epoch- 1 F-score: 0.7502342122653194\n",
            "Training. Epoch- 2 F-score: 0.9123469301720166\n",
            "Development. Epoch- 2 F-score: 0.7373438362350109\n",
            "Training. Epoch- 3 F-score: 0.929666530781789\n",
            "Development. Epoch- 3 F-score: 0.7307647287075346\n",
            "Training. Epoch- 4 F-score: 0.9392228630896693\n",
            "Development. Epoch- 4 F-score: 0.7598553352025014\n"
          ],
          "name": "stdout"
        },
        {
          "output_type": "display_data",
          "data": {
            "image/png": "[encoded data removed]",
            "text/plain": [
              "<Figure size 432x288 with 1 Axes>"
            ]
          },
          "metadata": {
            "tags": [],
            "needs_background": "light"
          }
        }
      ]
    }
  ]
}