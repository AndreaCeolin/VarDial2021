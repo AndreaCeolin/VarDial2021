{
  "nbformat": 4,
  "nbformat_minor": 0,
  "metadata": {
    "accelerator": "GPU",
    "colab": {
      "name": "tweets_CNN.ipynb",
      "provenance": [],
      "collapsed_sections": []
    },
    "kernelspec": {
      "display_name": "Python 3",
      "name": "python3"
    }
  },
  "cells": [
    {
      "cell_type": "markdown",
      "metadata": {
        "id": "jFsdW2NRb_RL"
      },
      "source": [
        "#Romanian Dialect Identification - VarDial2021 - Tweets CNN\n",
        "\n",
        "This notebook contains the CNN used by Team Phlyers for the RDI shared task at VarDial2021. The network is an adaptation of the CNN presented in Butnaru and Ionescu (2019).\n",
        "\n",
        "The first few blocks are needed to set up the directory."
      ]
    },
    {
      "cell_type": "code",
      "metadata": {
        "colab": {
          "base_uri": "https://localhost:8080/"
        },
        "id": "ElNfPjqpepZ9",
        "outputId": "8654d3e9-02be-4ca7-952d-a1cf62544494"
      },
      "source": [
        "# Load the Drive helper and mount\n",
        "from google.colab import drive\n",
        "\n",
        "# This will prompt for authorization.\n",
        "drive.mount('/content/drive')\n",
        "\n"
      ],
      "execution_count": 11,
      "outputs": [
        {
          "output_type": "stream",
          "text": [
            "Drive already mounted at /content/drive; to attempt to forcibly remount, call drive.mount(\"/content/drive\", force_remount=True).\n"
          ],
          "name": "stdout"
        }
      ]
    },
    {
      "cell_type": "code",
      "metadata": {
        "colab": {
          "base_uri": "https://localhost:8080/"
        },
        "id": "MCKCET-8fdjB",
        "outputId": "6630fbfa-a48e-4017-a62a-347d0ac4da98"
      },
      "source": [
        "%cd /content/drive/My Drive/Colab Notebooks/RMI-VarDial2021\n"
      ],
      "execution_count": 12,
      "outputs": [
        {
          "output_type": "stream",
          "text": [
            "/content/drive/My Drive/Colab Notebooks/RMI-VarDial2021\n"
          ],
          "name": "stdout"
        }
      ]
    },
    {
      "cell_type": "markdown",
      "metadata": {
        "id": "8HAFhRAkfmQ4"
      },
      "source": [
        "The next block loads the data and performs preprocessing."
      ]
    },
    {
      "cell_type": "code",
      "metadata": {
        "colab": {
          "base_uri": "https://localhost:8080/"
        },
        "id": "CEIXZLAPb_RO",
        "outputId": "0063ccde-0c55-43dd-a5e3-a9c8af4a523d"
      },
      "source": [
        "from io import open\n",
        "from collections import defaultdict\n",
        "import string \n",
        "import random\n",
        "\n",
        "'''\n",
        "The code has been adapted from:\n",
        "\n",
        "Convolutional Neural Networks Tutorial in PyTorch \n",
        "(https://adventuresinmachinelearning.com/convolutional-neural-networks-tutorial-in-pytorch/)\n",
        "\n",
        "NLP FROM SCRATCH: CLASSIFYING NAMES WITH A CHARACTER-LEVEL RNN\n",
        "by Sean Robertson\n",
        "https://pytorch.org/tutorials/intermediate/char_rnn_classification_tutorial.html\n",
        "'''\n",
        "\n",
        "##############################\n",
        "# Load the data and preprocess\n",
        "##############################\n",
        "\n",
        "dev_categories = []\n",
        "dev_sentences = []\n",
        "label_list = ['RO', 'MD']\n",
        "\n",
        "# Load the tweets development data and preprocess\n",
        "for line in open('data/dev.txt', encoding='utf-8', errors='ignore'):\n",
        "    category = line.split('\\t')[-1].rstrip().strip('\\u202c')\n",
        "    dev_categories.append(category)\n",
        "    sentence = line.split('\\t')[0].replace('$NE$', '').lower().replace('foto', '').replace('video','').replace('live','')\n",
        "    sentence = sentence.translate(sentence.maketrans('', '', string.punctuation+'|-0123456789”„…'))\n",
        "    sentence = ' '.join(sentence.split())\n",
        "    dev_sentences.append(sentence)\n",
        "\n",
        "# These are letters that appear more than 50 times in the corpus. The others are excluded.\n",
        "all_letters = 'cumaspnetfârşidvoljgzţăbîxwhșțkyкуинсайдертябгqхоéàпвылшǎцáзфьмжщчãöü̦̆ю̧ȋэç'\n",
        "\n",
        "# Map the characters into a list of indeces, that you use to create the tensors\n",
        "n_letters = len(all_letters)\n",
        "dic_letters = dict(zip(all_letters, range(1, n_letters+1)))\n",
        "\n",
        "# Use part of the tweets development dataset to create a tweets test set\n",
        "X_dev = dev_sentences[len(dev_sentences)//5:]\n",
        "y_dev = dev_categories[len(dev_sentences)//5:] \n",
        "X_test = dev_sentences[:len(dev_sentences)//5]\n",
        "y_test = dev_categories[:len(dev_sentences)//5] \n",
        "\n",
        "# Print size of the corpus\n",
        "print('Characters:', all_letters)\n",
        "print('# of characters:', len(all_letters))\n",
        "print('# of dev sentences:', len(X_dev))\n",
        "print('# of dev labels:', len(set(y_dev)))\n",
        "\n",
        "# Store the words that appear in each category\n",
        "X_dic = defaultdict(set)\n",
        "for sentence, label in zip(X_dev,y_dev):\n",
        "  X_dic[label].update(sentence.split())"
      ],
      "execution_count": 13,
      "outputs": [
        {
          "output_type": "stream",
          "text": [
            "Characters: cumaspnetfârşidvoljgzţăbîxwhșțkyкуинсайдертябгqхоéàпвылшǎцáзфьмжщчãöü̦̆ю̧ȋэç\n",
            "# of characters: 76\n",
            "# of dev sentences: 4190\n",
            "# of dev labels: 2\n"
          ],
          "name": "stdout"
        }
      ]
    },
    {
      "cell_type": "markdown",
      "metadata": {
        "id": "LDHGDy3R3e_E"
      },
      "source": [
        "The next block contains some data augmentation functions inspired by Wei and Zou (2019)."
      ]
    },
    {
      "cell_type": "code",
      "metadata": {
        "colab": {
          "base_uri": "https://localhost:8080/"
        },
        "id": "hxPGc3_L3MEL",
        "outputId": "afc2c431-b172-478c-fc81-349051cdc089"
      },
      "source": [
        "##################\n",
        "#Data Augmentation\n",
        "#################\n",
        "\n",
        "augmented_labels = []\n",
        "augmented_sentences = []\n",
        "\n",
        "#This function adds 10 replicas of the tweets set with shuffled sentences\n",
        "def random_shuffle(): \n",
        "  for i in range(10):\n",
        "    for label, sentence in zip(y_dev, X_dev):\n",
        "      augmented_labels.append(label)\n",
        "      new_sentence = sentence.split()\n",
        "      random.shuffle(new_sentence)\n",
        "      augmented_sentences.append(' '.join(new_sentence))\n",
        "\n",
        "#This function adds 10 replicas of the tweets set with random insertion \n",
        "def random_insert():\n",
        "  for i in range(10):\n",
        "    for label, sentence in zip(y_dev, X_dev):\n",
        "      augmented_labels.append(label)\n",
        "      new_sentence = sentence.split()\n",
        "      a = random.choice(list(X_dic[label]))\n",
        "      new_sentence.insert(random.choice(range(len(new_sentence))), a)\n",
        "      augmented_sentences.append(' '.join(new_sentence))\n",
        "\n",
        "#This functions adds 10 replicas of the tweets set with random deletion \n",
        "def random_delete():\n",
        "  for i in range(10):\n",
        "    for label, sentence in zip(y_dev, X_dev):\n",
        "      augmented_labels.append(label)\n",
        "      new_sentence = sentence.split()\n",
        "      new_sentence.pop(random.choice(range(len(new_sentence))))\n",
        "      augmented_sentences.append(' '.join(new_sentence))\n",
        "\n",
        "#This part adds 10 replicas of the tweets set with random swap\n",
        "def random_swap():\n",
        "  for i in range(10):\n",
        "    for label, sentence in zip(y_dev, X_dev):\n",
        "      augmented_labels.append(label)\n",
        "      new_sentence = sentence.split()\n",
        "      if len(new_sentence)>1:\n",
        "        w1, w2 = random.sample(range(len(new_sentence)),2)\n",
        "        new_sentence[w1], new_sentence[w2] = new_sentence[w2], new_sentence[w1] \n",
        "      augmented_sentences.append(' '.join(new_sentence))\n",
        "\n",
        "#Call the function\n",
        "random_shuffle()\n",
        "\n",
        "y_dev, X_dev = y_dev + augmented_labels, X_dev + augmented_sentences\n",
        "\n",
        "# Print size of the development set\n",
        "print('# of dev sentences augmented:', len(X_dev))\n",
        "print('# of dev labels augmented:', len(set(y_dev)))\n",
        "print('# of test sentences:', len(X_test))\n",
        "print('# of test labels:', len(set(y_test)))\n"
      ],
      "execution_count": 14,
      "outputs": [
        {
          "output_type": "stream",
          "text": [
            "# of dev sentences augmented: 46090\n",
            "# of dev labels augmented: 2\n",
            "# of test sentences: 1047\n",
            "# of test labels: 2\n"
          ],
          "name": "stdout"
        }
      ]
    },
    {
      "cell_type": "markdown",
      "metadata": {
        "id": "8tseK5-_4PTD"
      },
      "source": [
        "The next block contains some helper functions that are needed to transform our input data in Tensors."
      ]
    },
    {
      "cell_type": "code",
      "metadata": {
        "colab": {
          "base_uri": "https://localhost:8080/"
        },
        "id": "opFh1cJq3L08",
        "outputId": "058594b3-7392-4dee-ebcc-efcf4c9d9207"
      },
      "source": [
        "import torch\n",
        "\n",
        "###################\n",
        "# Helper functions\n",
        "###################\n",
        "\n",
        "# Get the letter index\n",
        "def letterToIndex(letter):\n",
        "    if letter in dic_letters:\n",
        "        return dic_letters[letter]\n",
        "    return 0\n",
        "\n",
        "#Turns a single line into a tensor\n",
        "def lineToTensor(line):\n",
        "    tensor = torch.zeros(n_letters+1, 5000)\n",
        "    for li, letter in enumerate(line[:5000]):\n",
        "        tensor[letterToIndex(letter)][li] = 1 \n",
        "    return tensor\n",
        "\n",
        "#Turns an batch of lines into a batch of tensors\n",
        "def linesToTensors(lines):\n",
        "    tensor = torch.zeros(batch_size, n_letters+1, 5000)\n",
        "    for batch, line in enumerate(lines):\n",
        "      for li, letter in enumerate(line[:5000]):\n",
        "          tensor[batch][letterToIndex(letter)][li] = 1 \n",
        "    return tensor\n",
        "\n",
        "#Turns categories into tensors\n",
        "def categoriesToTensors(categories):\n",
        "  labels = torch.zeros(len(categories),dtype=torch.long)\n",
        "  for i, label in enumerate(categories):\n",
        "    labels[i] = label_list.index(label)\n",
        "  return labels\n",
        "\n",
        "#Gets category from tensor\n",
        "def categoryFromOutput(output):\n",
        "  return label_list[int(output)]\n",
        "\n",
        "#Check that the category index is correct\n",
        "tensor = categoriesToTensors(['RO'])\n",
        "print(tensor)\n",
        "print(categoryFromOutput(tensor), 'RO')\n",
        "\n",
        "tensor_2 = categoriesToTensors(['MD'])\n",
        "print(tensor_2)\n",
        "print(categoryFromOutput(tensor_2), 'MD')"
      ],
      "execution_count": 15,
      "outputs": [
        {
          "output_type": "stream",
          "text": [
            "tensor([0])\n",
            "RO RO\n",
            "tensor([1])\n",
            "MD MD\n"
          ],
          "name": "stdout"
        }
      ]
    },
    {
      "cell_type": "markdown",
      "metadata": {
        "id": "KzjZPh1C4a-V"
      },
      "source": [
        "Next, we define the hyper-parameters of the neural network."
      ]
    },
    {
      "cell_type": "code",
      "metadata": {
        "id": "rPsQN0Ot3LnQ"
      },
      "source": [
        "##################\n",
        "#Hyper-parameters\n",
        "##################\n",
        "\n",
        "learning_rate = 0.001\n",
        "num_epochs = 5\n",
        "batch_size = 128"
      ],
      "execution_count": 16,
      "outputs": []
    },
    {
      "cell_type": "markdown",
      "metadata": {
        "id": "1ANPXYHGUGb8"
      },
      "source": [
        "This is a class based on the DataLoader class that we will use to load the data."
      ]
    },
    {
      "cell_type": "code",
      "metadata": {
        "id": "p_9dXnPyZBs1"
      },
      "source": [
        "from torch.utils.data import DataLoader, Dataset\n",
        "\n",
        "class MyClass(Dataset):\n",
        "    def __init__(self, training, labels):\n",
        "        self.training = training\n",
        "        self.labels = labels\n",
        "\n",
        "    def __len__(self):\n",
        "        return len(self.training)\n",
        "\n",
        "    def __getitem__(self, idx):\n",
        "        return (self.training[idx], self.labels[idx])\n",
        "\n",
        "training_dataset = MyClass(X_dev, y_dev)\n",
        "dev_dataset = MyClass(X_test, y_test)\n",
        "\n",
        "training_dataloader = DataLoader(training_dataset, batch_size=batch_size, shuffle=True, drop_last=True)\n",
        "dev_dataloader = DataLoader(dev_dataset, batch_size=batch_size, shuffle=True, drop_last=True)\n"
      ],
      "execution_count": 17,
      "outputs": []
    },
    {
      "cell_type": "markdown",
      "metadata": {
        "id": "hixbQPqpb_Rd"
      },
      "source": [
        "This is the CNN adapted from Butnaru and Ionescu (2019)."
      ]
    },
    {
      "cell_type": "code",
      "metadata": {
        "colab": {
          "base_uri": "https://localhost:8080/"
        },
        "id": "l7GUYQzQb_Rh",
        "outputId": "b571db1c-b532-4c4b-b96c-080c399f0728"
      },
      "source": [
        "import torch.nn as nn\n",
        "from torch.autograd import Variable\n",
        "\n",
        "######################################################################\n",
        "# Creating the Network\n",
        "# ====================\n",
        "\n",
        "\n",
        "class Net(nn.Module):\n",
        "    def __init__(self):\n",
        "        super(Net, self).__init__()\n",
        "        self.conv1 = nn.Sequential(nn.Conv1d(77, 128, kernel_size=7), nn.Threshold(threshold=0.000001, value=0), nn.MaxPool1d(3, stride=3))\n",
        "        self.conv2 = nn.Sequential(nn.Conv1d(128, 128, kernel_size=7), nn.Threshold(threshold=0.000001, value=0), nn.MaxPool1d(3, stride=3))\n",
        "        self.conv3 = nn.Sequential(nn.Conv1d(128, 128, kernel_size=3), nn.Threshold(threshold=0.000001, value=0), nn.MaxPool1d(3, stride=3))\n",
        "        self.fc1 = nn.Sequential(nn.Linear(23424, 1000), nn.Threshold(threshold=0.000001, value=0) ,nn.Dropout())\n",
        "        #For these two layers they do not specify the size. This was fine-tuned by us.\n",
        "        self.fc2 = nn.Sequential(nn.Linear(1000, 500), nn.Threshold(threshold=0.000001, value=0) ,nn.Dropout())\n",
        "        self.fc3 = nn.Linear(500, 2)\n",
        "\n",
        "    def forward(self, x):\n",
        "        out = self.conv1(x)\n",
        "        out = self.conv2(out)\n",
        "        out = self.conv3(out)\n",
        "        out = out.reshape(out.size(0), -1)\n",
        "        out = self.fc1(out)\n",
        "        out = self.fc2(out)\n",
        "        out = self.fc3(out)\n",
        "        softmax = nn.Softmax(dim=1)\n",
        "\n",
        "        return softmax(out)\n",
        "\n",
        "model = Net()\n",
        "model = model.to('cuda')\n",
        "optimizer = torch.optim.Adam(model.parameters(), lr=learning_rate)\n",
        "criterion = nn.CrossEntropyLoss()\n",
        "\n",
        "print('The CNN is ready.')\n"
      ],
      "execution_count": 18,
      "outputs": [
        {
          "output_type": "stream",
          "text": [
            "The CNN is ready.\n"
          ],
          "name": "stdout"
        }
      ]
    },
    {
      "cell_type": "markdown",
      "metadata": {
        "id": "Zi9yGjheUl1I"
      },
      "source": [
        "Here we train the CNN on the Tweets (in-domain) data.\n",
        "\n",
        "In the process, we plot the accuracy on the training and on the development data on a Matplotlib plot."
      ]
    },
    {
      "cell_type": "code",
      "metadata": {
        "colab": {
          "base_uri": "https://localhost:8080/",
          "height": 451
        },
        "id": "98r5NiihUmrj",
        "outputId": "2bf6dee8-779c-4e9d-b275-cb686734a076"
      },
      "source": [
        "import numpy as np\n",
        "import matplotlib.pyplot as plt\n",
        "from sklearn.metrics import f1_score\n",
        "\n",
        "# Train the model on the development dataset, and evaluate it on the test dataset\n",
        "# Print trainining and evaluation accuracies\n",
        "\n",
        "total_step = len(X_dev)\n",
        "loss_list = []\n",
        "training_accuracy = [0]\n",
        "dev_accuracy = [0]\n",
        "\n",
        "for epoch in range(num_epochs):\n",
        "\n",
        "  predicted_labels = []\n",
        "  correct_labels = []\n",
        "\n",
        "  for i, (sentences, category) in enumerate(training_dataloader):\n",
        "    tensors = linesToTensors(sentences)\n",
        "    tensors = tensors.to(\"cuda\")\n",
        "    labels = categoriesToTensors(category)\n",
        "    labels = labels.to(\"cuda\")\n",
        "\n",
        "    outputs = model(tensors)\n",
        "    outputs = outputs.to(\"cuda\")\n",
        "\n",
        "    loss = criterion(outputs, labels)\n",
        "    loss_list.append(loss.item())\n",
        "\n",
        "    # Backprop and perform Adam optimisation\n",
        "    optimizer.zero_grad()\n",
        "    loss.backward()\n",
        "    optimizer.step()\n",
        "\n",
        "    # Track the training accuracy\n",
        "    total = labels.size(0)\n",
        "    _, predicted = torch.max(outputs.data, 1)\n",
        "    correct = (predicted == labels).sum().item()\n",
        "    acc = correct / total\n",
        "\n",
        "    predicted_labels.extend([int(label) for label in predicted])\n",
        "    correct_labels.extend([int(label) for label in labels])\n",
        "\n",
        "  #Store training accuracy\n",
        "  training_accuracy.append(f1_score(predicted_labels, correct_labels, average='macro'))\n",
        "  print('Training. Epoch-', epoch, 'F-score:', f1_score(predicted_labels, correct_labels, average='macro'))\n",
        "  test = [(sentence, category) for sentence, category in zip(X_test,y_test)]\n",
        "\n",
        "  #Check validation accuracy\n",
        "  predicted = []\n",
        "  correct = []\n",
        "  total = len(test)\n",
        "  for i, (sentence, category) in enumerate(test):\n",
        "    tensor = torch.reshape(lineToTensor(sentence), (1, n_letters+1, 5000))\n",
        "    tensor = tensor.to(\"cuda\")\n",
        "    outputs = model(tensor)\n",
        "    outputs = outputs.to(\"cpu\")\n",
        "    label = Variable(torch.LongTensor([label_list.index(category)]))\n",
        "    _, prediction = torch.max(outputs.data, 1)\n",
        "    predicted.append(prediction)\n",
        "    correct.append(label)\n",
        "  dev_accuracy.append(f1_score(predicted, correct, average='macro'))\n",
        "  print('Development. Epoch-', epoch, 'F-score:', f1_score(predicted, correct, average='macro'))\n",
        "\n",
        "#Plot training and evaluation accuracy\n",
        "n_epochs = [iter for iter in range(len(training_accuracy))]\n",
        "plt.plot(n_epochs, training_accuracy)\n",
        "plt.plot(n_epochs, dev_accuracy)\n",
        "plt.title('Training and Validation F1 score')\n",
        "plt.show()"
      ],
      "execution_count": 19,
      "outputs": [
        {
          "output_type": "stream",
          "text": [
            "Training. Epoch- 0 F-score: 0.656260302265173\n",
            "Development. Epoch- 0 F-score: 0.7437739740152609\n",
            "Training. Epoch- 1 F-score: 0.8361869957920716\n",
            "Development. Epoch- 1 F-score: 0.7558678808798149\n",
            "Training. Epoch- 2 F-score: 0.8943372063077225\n",
            "Development. Epoch- 2 F-score: 0.7290372670807452\n",
            "Training. Epoch- 3 F-score: 0.9120198937569245\n",
            "Development. Epoch- 3 F-score: 0.7618639616721397\n",
            "Training. Epoch- 4 F-score: 0.9256958123764979\n",
            "Development. Epoch- 4 F-score: 0.7619265916809507\n"
          ],
          "name": "stdout"
        },
        {
          "output_type": "display_data",
          "data": {
            "image/png": "[encoded data removed]",
            "text/plain": [
              "<Figure size 432x288 with 1 Axes>"
            ]
          },
          "metadata": {
            "tags": [],
            "needs_background": "light"
          }
        }
      ]
    }
  ]
}