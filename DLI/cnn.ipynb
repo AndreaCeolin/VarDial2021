{
  "nbformat": 4,
  "nbformat_minor": 0,
  "metadata": {
    "accelerator": "GPU",
    "colab": {
      "name": "cnn+graph.ipynb",
      "provenance": [],
      "collapsed_sections": []
    },
    "kernelspec": {
      "display_name": "Python 3",
      "name": "python3"
    }
  },
  "cells": [
    {
      "cell_type": "markdown",
      "metadata": {
        "id": "jFsdW2NRb_RL"
      },
      "source": [
        "#Dravidian Language Identification - VarDial2021 \n",
        "\n",
        "This notebook contains the CNN used by Team Phlyers for the DLI shared task at VarDial2021. The network is an adaptation of the CNN presented in Butnaru and Ionescu (2019).\n",
        "\n",
        "The first few blocks are needed to set up the directory."
      ]
    },
    {
      "cell_type": "code",
      "metadata": {
        "colab": {
          "base_uri": "https://localhost:8080/"
        },
        "id": "ElNfPjqpepZ9",
        "outputId": "c112586e-fe00-4de1-926e-1970e71765c3"
      },
      "source": [
        "# Load the Drive helper and mount\n",
        "from google.colab import drive\n",
        "\n",
        "# This will prompt for authorization.\n",
        "drive.mount('/content/drive')\n",
        "\n"
      ],
      "execution_count": 29,
      "outputs": [
        {
          "output_type": "stream",
          "text": [
            "Drive already mounted at /content/drive; to attempt to forcibly remount, call drive.mount(\"/content/drive\", force_remount=True).\n"
          ],
          "name": "stdout"
        }
      ]
    },
    {
      "cell_type": "code",
      "metadata": {
        "id": "MCKCET-8fdjB",
        "colab": {
          "base_uri": "https://localhost:8080/"
        },
        "outputId": "c410f483-7691-4b8c-f8b2-0bfdcb9bd8d5"
      },
      "source": [
        "%cd /content/drive/My Drive/Colab Notebooks/DLI-VarDial2021\n"
      ],
      "execution_count": 30,
      "outputs": [
        {
          "output_type": "stream",
          "text": [
            "/content/drive/My Drive/Colab Notebooks/DLI-VarDial2021\n"
          ],
          "name": "stdout"
        }
      ]
    },
    {
      "cell_type": "markdown",
      "metadata": {
        "id": "8HAFhRAkfmQ4"
      },
      "source": [
        "The next block loads the data and performs preprocessing."
      ]
    },
    {
      "cell_type": "code",
      "metadata": {
        "id": "CEIXZLAPb_RO",
        "colab": {
          "base_uri": "https://localhost:8080/"
        },
        "outputId": "4945c793-e7f3-466d-d3eb-afb8657a9b4c"
      },
      "source": [
        "from io import open\n",
        "from collections import defaultdict, Counter\n",
        "import string \n",
        "import random\n",
        "\n",
        "'''\n",
        "The code has been adapted from:\n",
        "\n",
        "Convolutional Neural Networks Tutorial in PyTorch \n",
        "(https://adventuresinmachinelearning.com/convolutional-neural-networks-tutorial-in-pytorch/)\n",
        "\n",
        "NLP FROM SCRATCH: CLASSIFYING NAMES WITH A CHARACTER-LEVEL RNN\n",
        "by Sean Robertson\n",
        "https://pytorch.org/tutorials/intermediate/char_rnn_classification_tutorial.html\n",
        "'''\n",
        "\n",
        "##############################\n",
        "# Load the data and preprocess\n",
        "##############################\n",
        "\n",
        "sentences = open('Dravidianlanid-Vardial2021-train.tsv').readlines()\n",
        "\n",
        "#Fixed seed\n",
        "random.seed(10)\n",
        "random.shuffle(sentences)\n",
        "\n",
        "data = defaultdict(list)\n",
        "test = []\n",
        "\n",
        "#Split the data into training and test, 80/20 split\n",
        "i=0\n",
        "for line in sentences:\n",
        "    if len(line.split('\\t')) == 2:\n",
        "        sample, label = line.split('\\t')\n",
        "        if i< 13337: #this is the cutoff to extract 4/5 of the dataset\n",
        "          sample_new = sample.translate(line.maketrans('', '', string.punctuation+'0123456789'))\n",
        "          data[label.rstrip()].append(sample_new)\n",
        "        else: #everything else goes in the test set\n",
        "          sample_new = sample.translate(line.maketrans('', '', string.punctuation+'0123456789'))\n",
        "          test.append((sample_new, label.rstrip()))\n",
        "        i+=1\n",
        "\n",
        "#Print labels\n",
        "label_list = list(data.keys())\n",
        "print(\"Labels:\")\n",
        "print(label_list)\n",
        "\n",
        "#Load training and test set\n",
        "X_train = []\n",
        "y_train = []\n",
        "\n",
        "for key in label_list:\n",
        "  for sentence in data[key]:\n",
        "    y_train.append(key)\n",
        "    X_train.append(sentence)\n",
        "\n",
        "X_test = [X for X, _ in test]\n",
        "y_test = [y for _, y in test]\n",
        "\n",
        "#Print number of training sentences, test sentences and labels\n",
        "print('# of train sentences:', len(X_train))\n",
        "print('# of train labels:', len(set(y_train)))\n",
        "print('# of test sentences:', len(X_test))\n",
        "print('# of test labels:', len(set(y_test)))\n",
        "\n",
        "##################\n",
        "#Characters \n",
        "#################\n",
        "\n",
        "#Store the 100 most frequent characters that appear in training. \n",
        "all_letters = Counter(''.join(X_train))\n",
        "letters = [letter for letter, _ in all_letters.most_common(100)]\n",
        "letters = ''.join(letters)\n",
        "\n",
        "n_letters = len(letters)\n",
        "print('# of characters:', n_letters)\n",
        "\n",
        "# Map the characters into a list of indeces, that you use to create the tensors\n",
        "dic_letters = dict(zip(letters, range(1, n_letters+1)))"
      ],
      "execution_count": 31,
      "outputs": [
        {
          "output_type": "stream",
          "text": [
            "Labels:\n",
            "['Tamil', 'Malayalam', 'Kannada', 'other-language']\n",
            "# of train sentences: 13337\n",
            "# of train labels: 4\n",
            "# of test sentences: 3335\n",
            "# of test labels: 4\n",
            "# of characters: 100\n"
          ],
          "name": "stdout"
        }
      ]
    },
    {
      "cell_type": "markdown",
      "metadata": {
        "id": "lZj0RMvIM9yF"
      },
      "source": [
        "Next, we define the hyper-parameters of the neural network and the size of the training dataset"
      ]
    },
    {
      "cell_type": "code",
      "metadata": {
        "id": "mywlWbpLMVbU"
      },
      "source": [
        "##################\n",
        "#Hyper-parameters\n",
        "##################\n",
        "\n",
        "learning_rate = 0.001\n",
        "num_epochs = 10\n",
        "batch_size = 256\n",
        "n_sentences =  25000"
      ],
      "execution_count": 32,
      "outputs": []
    },
    {
      "cell_type": "markdown",
      "metadata": {
        "id": "O2At8ZroQduf"
      },
      "source": [
        "In this block we perform balanced sampling, with the option of augmenting the data by shuffling the sentences."
      ]
    },
    {
      "cell_type": "code",
      "metadata": {
        "colab": {
          "base_uri": "https://localhost:8080/"
        },
        "id": "QHGvu2AsMVlM",
        "outputId": "848eb1f3-4f60-4de7-affd-907eec78ae48"
      },
      "source": [
        "##################\n",
        "#Data Augmentation\n",
        "#################\n",
        "\n",
        "#Perform balanced sampling\n",
        "\n",
        "#Add sentences, no shuffling\n",
        "def add_sentences():\n",
        "  for i in range(n_sentences):\n",
        "    lang = random.choice(list(label_list)) #Select a language at random\n",
        "    sentence = random.choice(data[lang]) #Select a sentence at random\n",
        "    y_train.append(lang)\n",
        "    X_train.append(sentence)\n",
        "\n",
        "#Add sentences, shuffling\n",
        "def add_sentences_shuffling():\n",
        "  for i in range(n_sentences):\n",
        "    lang = random.choice(list(label_list)) #Select a language at random\n",
        "    sentence = random.choice(data[lang]) #Select a sentence at random\n",
        "    new_sentence = sentence.split()\n",
        "    random.shuffle(new_sentence)\n",
        "    new_sentence = ' '.join(new_sentence)\n",
        "    y_train.append(lang)\n",
        "    X_train.append(new_sentence)\n",
        "\n",
        "#Call the function to perform balanced sampling\n",
        "add_sentences_shuffling()\n",
        "\n",
        "print('# of train+augmented sentences:', len(X_train))\n",
        "print('# of train_augmented labels:', len(set(y_train)))"
      ],
      "execution_count": 33,
      "outputs": [
        {
          "output_type": "stream",
          "text": [
            "# of train+augmented sentences: 38337\n",
            "# of train_augmented labels: 4\n"
          ],
          "name": "stdout"
        }
      ]
    },
    {
      "cell_type": "markdown",
      "metadata": {
        "id": "nhiAFYS1Ni9_"
      },
      "source": [
        "The next block contains some helper functions that are needed to transform our input data in Tensors."
      ]
    },
    {
      "cell_type": "code",
      "metadata": {
        "colab": {
          "base_uri": "https://localhost:8080/"
        },
        "id": "qVOgbUAiMVOh",
        "outputId": "267f7c33-7517-44a0-d877-d5ffa4391511"
      },
      "source": [
        "import torch\n",
        "\n",
        "###################\n",
        "# Helper functions\n",
        "###################\n",
        "\n",
        "# Get the letter index\n",
        "def letterToIndex(letter):\n",
        "    if letter in dic_letters:\n",
        "        return dic_letters[letter]\n",
        "    return 0\n",
        "\n",
        "#Turns a single line into a tensor\n",
        "def lineToTensor(line):\n",
        "    tensor = torch.zeros(n_letters+1, 160)\n",
        "    for li, letter in enumerate(line[:160]):\n",
        "        tensor[letterToIndex(letter)][li] = 1 \n",
        "    return tensor\n",
        "\n",
        "#Turns an batch of lines into a batch of tensors\n",
        "def linesToTensors(lines):\n",
        "    tensor = torch.zeros(batch_size, n_letters+1, 160)\n",
        "    for batch, line in enumerate(lines):\n",
        "      for li, letter in enumerate(line[:160]):\n",
        "          tensor[batch][letterToIndex(letter)][li] = 1 \n",
        "    return tensor\n",
        "\n",
        "#Turns categories it tensors\n",
        "def categoriesToTensors(categories):\n",
        "    labels = torch.zeros(len(categories),dtype=torch.long)\n",
        "    for i, label in enumerate(categories):\n",
        "      labels[i] = label_list.index(label)\n",
        "    return labels\n",
        "\n",
        "#Turns tensors into labels\n",
        "def categoryFromOutput(output):\n",
        "  return label_list[int(output)]\n",
        "\n",
        "#Check that the category index is correct\n",
        "\n",
        "tensor = categoriesToTensors(['Tamil'])\n",
        "print(tensor)\n",
        "print(categoryFromOutput(tensor))\n",
        "\n",
        "tensor_2 = categoriesToTensors(['Malayalam'])\n",
        "print(tensor_2)\n",
        "print(categoryFromOutput(tensor_2))\n",
        "\n",
        "tensor_3 = categoriesToTensors(['Kannada'])\n",
        "print(tensor_3)\n",
        "print(categoryFromOutput(tensor_3))\n",
        "\n",
        "tensor_4 = categoriesToTensors(['other-language'])\n",
        "print(tensor_4)\n",
        "print(categoryFromOutput(tensor_4))\n"
      ],
      "execution_count": 34,
      "outputs": [
        {
          "output_type": "stream",
          "text": [
            "tensor([0])\n",
            "Tamil\n",
            "tensor([1])\n",
            "Malayalam\n",
            "tensor([2])\n",
            "Kannada\n",
            "tensor([3])\n",
            "other-language\n"
          ],
          "name": "stdout"
        }
      ]
    },
    {
      "cell_type": "markdown",
      "metadata": {
        "id": "1ANPXYHGUGb8"
      },
      "source": [
        "This is a class based on the DataLoader class that we will use to load the data."
      ]
    },
    {
      "cell_type": "code",
      "metadata": {
        "id": "p_9dXnPyZBs1"
      },
      "source": [
        "from torch.utils.data import DataLoader, Dataset\n",
        "\n",
        "class MyClass(Dataset):\n",
        "    def __init__(self, training, labels):\n",
        "        self.training = training\n",
        "        self.labels = labels\n",
        "\n",
        "    def __len__(self):\n",
        "        return len(self.training)\n",
        "\n",
        "    def __getitem__(self, idx):\n",
        "        return (self.training[idx], self.labels[idx])\n",
        "\n",
        "training_dataset = MyClass(X_train, y_train)\n",
        "dev_dataset = MyClass(X_test, y_test)\n",
        "\n",
        "training_dataloader = DataLoader(training_dataset, batch_size=batch_size, shuffle=True, drop_last=True)\n",
        "dev_dataloader = DataLoader(dev_dataset, batch_size=1, shuffle=True, drop_last=True)"
      ],
      "execution_count": 35,
      "outputs": []
    },
    {
      "cell_type": "markdown",
      "metadata": {
        "id": "hixbQPqpb_Rd"
      },
      "source": [
        "This is the CNN adapted from Butnaru and Ionescu (2019)."
      ]
    },
    {
      "cell_type": "code",
      "metadata": {
        "id": "l7GUYQzQb_Rh",
        "colab": {
          "base_uri": "https://localhost:8080/"
        },
        "outputId": "a77c47cd-8e52-4f99-89b6-cab1e4f8b1dd"
      },
      "source": [
        "import torch.nn as nn\n",
        "from torch.autograd import Variable\n",
        "\n",
        "######################################################################\n",
        "# Creating the Network\n",
        "# ====================\n",
        "\n",
        "\n",
        "class Net(nn.Module):\n",
        "    def __init__(self):\n",
        "        super(Net, self).__init__()\n",
        "        self.conv1 = nn.Sequential(nn.Conv1d(101, 128, kernel_size=7), nn.Threshold(threshold=0.000001, value=0), nn.MaxPool1d(3, stride=3))\n",
        "        self.conv2 = nn.Sequential(nn.Conv1d(128, 128, kernel_size=7), nn.Threshold(threshold=0.000001, value=0), nn.MaxPool1d(3, stride=3))\n",
        "        self.conv3 = nn.Sequential(nn.Conv1d(128, 128, kernel_size=3), nn.Threshold(threshold=0.000001, value=0), nn.MaxPool1d(3, stride=3))\n",
        "        self.fc1 = nn.Sequential(nn.Linear(512, 1000), nn.Threshold(threshold=0.000001, value=0) ,nn.Dropout())\n",
        "        #For these two layers they do not specify the size. This was fine-tuned by us.\n",
        "        self.fc2 = nn.Sequential(nn.Linear(1000, 500), nn.Threshold(threshold=0.000001, value=0) ,nn.Dropout())\n",
        "        self.fc3 = nn.Linear(500, 4)\n",
        "\n",
        "    def forward(self, x):\n",
        "        out = self.conv1(x)\n",
        "        out = self.conv2(out)\n",
        "        out = self.conv3(out)\n",
        "        out = out.reshape(out.size(0), -1)\n",
        "        out = self.fc1(out)\n",
        "        out = self.fc2(out)\n",
        "        out = self.fc3(out)\n",
        "        softmax = nn.Softmax(dim=1)\n",
        "\n",
        "        return softmax(out)\n",
        "\n",
        "model = Net()\n",
        "model = model.to('cuda')\n",
        "optimizer = torch.optim.Adam(model.parameters(), lr=learning_rate)\n",
        "criterion = nn.CrossEntropyLoss()\n",
        "\n",
        "print('The CNN is ready.')\n"
      ],
      "execution_count": 36,
      "outputs": [
        {
          "output_type": "stream",
          "text": [
            "The CNN is ready.\n"
          ],
          "name": "stdout"
        }
      ]
    },
    {
      "cell_type": "markdown",
      "metadata": {
        "id": "jV5L6uslb_Rs"
      },
      "source": [
        "This is the training phase. \n",
        "\n",
        "In the process, we plot the accuracy on the training and on the development data on a Matplotlib plot.\n"
      ]
    },
    {
      "cell_type": "code",
      "metadata": {
        "colab": {
          "base_uri": "https://localhost:8080/",
          "height": 621
        },
        "id": "wYGy4JbHb_Rt",
        "outputId": "7b0e578f-3a3c-4c1a-d53d-76ae5080924b"
      },
      "source": [
        "import numpy as np\n",
        "import matplotlib.pyplot as plt\n",
        "from sklearn.metrics import f1_score\n",
        "\n",
        "# Train the model on the development dataset, and evaluate it on the test dataset\n",
        "# Print trainining and evaluation accuracies\n",
        "\n",
        "loss_list = []\n",
        "training_accuracy = [0]\n",
        "dev_accuracy = [0]\n",
        "\n",
        "for epoch in range(num_epochs):\n",
        "\n",
        "  predicted_labels = []\n",
        "  correct_labels = []\n",
        "\n",
        "  for i, (sentences, category) in enumerate(training_dataloader):\n",
        "    tensors = linesToTensors(sentences)\n",
        "    tensors = tensors.to(\"cuda\")\n",
        "    labels = categoriesToTensors(category)\n",
        "    labels = labels.to(\"cuda\")\n",
        "    outputs = model(tensors)\n",
        "    outputs = outputs.to(\"cuda\")\n",
        "\n",
        "    loss = criterion(outputs, labels)\n",
        "    loss_list.append(loss.item())\n",
        "\n",
        "    # Backprop and perform Adam optimisation\n",
        "    optimizer.zero_grad()\n",
        "    loss.backward()\n",
        "    optimizer.step()\n",
        "\n",
        "    # Track the training accuracys\n",
        "    total = labels.size(0)\n",
        "    _, predicted = torch.max(outputs.data, 1)\n",
        "    correct = (predicted == labels).sum().item()\n",
        "    acc = correct / total\n",
        "\n",
        "    predicted_labels.extend([int(label) for label in predicted])\n",
        "    correct_labels.extend([int(label) for label in labels])\n",
        "\n",
        "  #Store training accuracy\n",
        "  training_accuracy.append(f1_score(predicted_labels, correct_labels, average='micro'))\n",
        "  print('Training. Epoch-', epoch, 'F-score:', f1_score(predicted_labels, correct_labels, average='micro'))\n",
        "\n",
        "  #Check validation accuracy\n",
        "  total = len(y_test)\n",
        "  predicted = []\n",
        "  correct = []\n",
        "\n",
        "  for i, (sentence, category) in enumerate(zip(X_test, y_test)):\n",
        "    tensor = torch.reshape(lineToTensor(sentence), (1, n_letters+1, 160))\n",
        "    tensor = tensor.to(\"cuda\")\n",
        "    outputs = model(tensor)\n",
        "    outputs = outputs.to(\"cpu\")\n",
        "\n",
        "    label = Variable(torch.LongTensor([label_list.index(category)]))\n",
        "\n",
        "    _, prediction = torch.max(outputs.data, 1)\n",
        "    predicted.append(prediction)\n",
        "    correct.append(label)\n",
        "  dev_accuracy.append(f1_score(predicted, correct, average='micro'))\n",
        "  print('Development. Epoch-', epoch, 'F-score:', f1_score(predicted, correct, average='micro'))\n",
        "\n",
        "#Plot training and evaluation accuracy\n",
        "n_epochs = [iter for iter in range(len(training_accuracy))]\n",
        "plt.plot(n_epochs, training_accuracy)\n",
        "plt.plot(n_epochs, dev_accuracy)\n",
        "plt.title('Training and Validation F1 score')\n",
        "plt.show()\n",
        "\n",
        "\n"
      ],
      "execution_count": 37,
      "outputs": [
        {
          "output_type": "stream",
          "text": [
            "Training. Epoch- 0 F-score: 0.5263999580536913\n",
            "Development. Epoch- 0 F-score: 0.8326836581709145\n",
            "Training. Epoch- 1 F-score: 0.7450188758389261\n",
            "Development. Epoch- 1 F-score: 0.8593703148425788\n",
            "Training. Epoch- 2 F-score: 0.8270763422818792\n",
            "Development. Epoch- 2 F-score: 0.8326836581709145\n",
            "Training. Epoch- 3 F-score: 0.8531617030201344\n",
            "Development. Epoch- 3 F-score: 0.8740629685157422\n",
            "Training. Epoch- 4 F-score: 0.8897860738255033\n",
            "Development. Epoch- 4 F-score: 0.8821589205397301\n",
            "Training. Epoch- 5 F-score: 0.9031826761744967\n",
            "Development. Epoch- 5 F-score: 0.8740629685157422\n",
            "Training. Epoch- 6 F-score: 0.9025796979865772\n",
            "Development. Epoch- 6 F-score: 0.870464767616192\n",
            "Training. Epoch- 7 F-score: 0.9056732382550335\n",
            "Development. Epoch- 7 F-score: 0.8929535232383808\n",
            "Training. Epoch- 8 F-score: 0.919253355704698\n",
            "Development. Epoch- 8 F-score: 0.8338830584707646\n",
            "Training. Epoch- 9 F-score: 0.9140625\n",
            "Development. Epoch- 9 F-score: 0.8863568215892054\n"
          ],
          "name": "stdout"
        },
        {
          "output_type": "display_data",
          "data": {
            "image/png": "[encoded data removed]",
            "text/plain": [
              "<Figure size 432x288 with 1 Axes>"
            ]
          },
          "metadata": {
            "tags": [],
            "needs_background": "light"
          }
        }
      ]
    }
  ]
}