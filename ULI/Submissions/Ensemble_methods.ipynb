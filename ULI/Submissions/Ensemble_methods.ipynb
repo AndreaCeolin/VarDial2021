{
  "nbformat": 4,
  "nbformat_minor": 0,
  "metadata": {
    "colab": {
      "name": "Ensemble_methods.ipynb",
      "provenance": []
    },
    "kernelspec": {
      "name": "python3",
      "display_name": "Python 3"
    }
  },
  "cells": [
    {
      "cell_type": "markdown",
      "metadata": {
        "id": "FdA3vUUkGMj4"
      },
      "source": [
        "#Uralic Language Identification Task - VarDial2021 - Part 8\n",
        "\n",
        "This notebook contains the code developed by Team Phlyers for the two ensemble models submitted to the ULI task at VarDial2021.\n",
        "\n",
        "The first few blocks are needed to set up the directory."
      ]
    },
    {
      "cell_type": "code",
      "metadata": {
        "colab": {
          "base_uri": "https://localhost:8080/"
        },
        "id": "y1mia_GbxZO_",
        "outputId": "bdd44ad6-0196-4d98-f138-013fb3fbbbae"
      },
      "source": [
        "# Load the Drive helper and mount\n",
        "from google.colab import drive\n",
        "\n",
        "# This will prompt for authorization.\n",
        "drive.mount('/content/drive')"
      ],
      "execution_count": null,
      "outputs": [
        {
          "output_type": "stream",
          "text": [
            "Drive already mounted at /content/drive; to attempt to forcibly remount, call drive.mount(\"/content/drive\", force_remount=True).\n"
          ],
          "name": "stdout"
        }
      ]
    },
    {
      "cell_type": "code",
      "metadata": {
        "colab": {
          "base_uri": "https://localhost:8080/"
        },
        "id": "oyz1xZSyxbvB",
        "outputId": "91924617-1f57-40a6-94ac-edb1945e54ed"
      },
      "source": [
        "%cd /content/drive/My Drive/Colab Notebooks/ULI-VarDial2021"
      ],
      "execution_count": null,
      "outputs": [
        {
          "output_type": "stream",
          "text": [
            "/content/drive/My Drive/Colab Notebooks/ULI-VarDial2021\n"
          ],
          "name": "stdout"
        }
      ]
    },
    {
      "cell_type": "code",
      "metadata": {
        "id": "GccTAr6-wkaD"
      },
      "source": [
        "track1 = [line.strip() for line in open('ULI-track-1-Phlyers.txt')]\n",
        "track3 = [line.strip() for line in open('ULI-track-3-Phlyers.txt')]\n"
      ],
      "execution_count": null,
      "outputs": []
    },
    {
      "cell_type": "markdown",
      "metadata": {
        "id": "4igKZiPuIH5t"
      },
      "source": [
        "The next blocks combine the predictions of the previous classifiers."
      ]
    },
    {
      "cell_type": "code",
      "metadata": {
        "id": "gEjaCe5RfbUx"
      },
      "source": [
        "uralic_langs = set(track1)\n",
        "uralic_langs.remove('Na')\n",
        "uralic_rare = {'sjk', 'vot', 'sju', 'izh', 'nio'}\n",
        "\n",
        "ensemble1= []\n",
        "\n",
        "for sub1, sub3 in zip(track1, track3):\n",
        "  if sub1 in uralic_rare and sub3 in uralic_langs:\n",
        "    ensemble1.append(sub3)\n",
        "  else:\n",
        "    ensemble1.append(sub1)\n",
        "\n",
        "ensemble2 = []\n",
        "\n",
        "for sub1, sub3 in zip(track1, track3):\n",
        "  if sub1 in uralic_langs and sub3 in uralic_langs:\n",
        "    ensemble2.append(sub1)\n",
        "  else:\n",
        "    ensemble2.append(sub3)"
      ],
      "execution_count": null,
      "outputs": []
    },
    {
      "cell_type": "code",
      "metadata": {
        "id": "aQa9ti90F9Hy"
      },
      "source": [
        "with open('ensemble_1.txt', 'w') as f:\n",
        "  for label in ensemble1:\n",
        "    f.write(label + '\\n')\n",
        "\n",
        "with open('ensemble_2.txt', 'w') as g:\n",
        "  for label in ensemble2:\n",
        "    g.write(label + '\\n')\n"
      ],
      "execution_count": null,
      "outputs": []
    }
  ]
}